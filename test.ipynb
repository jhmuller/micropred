{
 "cells": [
  {
   "cell_type": "code",
   "execution_count": 1,
   "id": "d4ebb021",
   "metadata": {},
   "outputs": [
    {
     "name": "stdout",
     "output_type": "stream",
     "text": [
      " exe C:\\Users\\jmull\\Anaconda3\\envs\\micropred\\python.exe <built-in method now of type object at 0x00007FF94FD2E7D0>\n"
     ]
    }
   ],
   "source": [
    "import os\n",
    "import sys\n",
    "import pandas as pd\n",
    "import datetime\n",
    "\n",
    "print(f\" exe {sys.executable} {datetime.datetime.now}\")"
   ]
  },
  {
   "cell_type": "code",
   "execution_count": 3,
   "id": "e05941f5",
   "metadata": {},
   "outputs": [
    {
     "name": "stdout",
     "output_type": "stream",
     "text": [
      "[-1.5, 2.5, -0.5, 0.5, -2.5, 2.5, -0.5, -1.5, 0.5, -1.5]\n"
     ]
    }
   ],
   "source": [
    "from microprediction import MicroReader\n",
    "reader = MicroReader()\n",
    "x = reader.get_lagged_values('die.json')\n",
    "print(x[:10])"
   ]
  },
  {
   "cell_type": "code",
   "execution_count": 5,
   "id": "b00de8ac",
   "metadata": {},
   "outputs": [],
   "source": [
    "from microprediction import new_key, MicroWriter\n",
    "\n",
    "#And burn a key\n",
    "key12 = new_key(difficulty=12)"
   ]
  },
  {
   "cell_type": "code",
   "execution_count": 7,
   "id": "aae3ca3d",
   "metadata": {},
   "outputs": [],
   "source": [
    "import pickle\n",
    "# open a file, where you ant to store the data\n",
    "fpath = \"microKey12.pickle\"\n",
    "with open(fpath, 'wb') as fp:\n",
    "    # dump information to that file\n",
    "    pickle.dump(key12, fp)"
   ]
  },
  {
   "cell_type": "code",
   "execution_count": 19,
   "id": "cebc17ed",
   "metadata": {},
   "outputs": [
    {
     "name": "stdout",
     "output_type": "stream",
     "text": [
      "87c8d485e0773b6ac4dfb12caeb2b278\n"
     ]
    }
   ],
   "source": [
    "with open(fpath, \"rb\") as fp:\n",
    "    key = pickle.load(fp)\n",
    "    print(key)"
   ]
  },
  {
   "cell_type": "code",
   "execution_count": 20,
   "id": "8bd95775",
   "metadata": {},
   "outputs": [
    {
     "name": "stdout",
     "output_type": "stream",
     "text": [
      "87c8d485e0773b6ac4dfb12caeb2b278\n"
     ]
    }
   ],
   "source": [
    "import microconventions as mc\n",
    "[x for x in dir(mc) if not x.startswith(\"_\")]\n",
    "mc.animal_from_key(key12)\n",
    "print(key)"
   ]
  },
  {
   "cell_type": "code",
   "execution_count": null,
   "id": "f933167d",
   "metadata": {},
   "outputs": [],
   "source": [
    "#which lets us instantiate a MicroWriter:\n",
    "mw = MicroWriter(write_key=write_key)\n",
    "\n",
    "#We reveal the private write_key so you can cut and paste it into the dashboard\n",
    "print(write_key)\n",
    "\n",
    "#You should keep this private, but we also show the public identity\n",
    "print(mw.shash(write_key))\n",
    "\n",
    "#and the shorter, cuter, public identity\n",
    "print(mw.animal_from_key(write_key))\n",
    "\n",
    "\n",
    "#(b) Your first submission\n",
    "#A submission is a list of 225 floating point numbers. You hope that some of them will be close to the truth, which will be revealed as the next update to the time series that occurs after a delay of 70 seconds. We will use 70 seconds as an example here, but you can find the list of possible delays at config.json or in the mw.DELAYS property. \n",
    "#In the video we choose a so-called Z1-stream similar to z1~emojitracker-twitter-astonished_face~3555 because these values are, as we will learn later, roughly (standard) normally distributed. It is therefore not a terrible supposition to supply 225 numbers that are normally distributed with variance 1 and mean 0. \n",
    "\n",
    "import numpy as np\n",
    "\n",
    "xs = list(np.random.randn(225))\n",
    "\n",
    "mw.submit(name=\"z1~emojitracker-twitter-astonished_face~3555.json\", values=xs, delay=70)"
   ]
  }
 ],
 "metadata": {
  "kernelspec": {
   "display_name": "micropred",
   "language": "python",
   "name": "micropred"
  },
  "language_info": {
   "codemirror_mode": {
    "name": "ipython",
    "version": 3
   },
   "file_extension": ".py",
   "mimetype": "text/x-python",
   "name": "python",
   "nbconvert_exporter": "python",
   "pygments_lexer": "ipython3",
   "version": "3.8.13"
  }
 },
 "nbformat": 4,
 "nbformat_minor": 5
}
