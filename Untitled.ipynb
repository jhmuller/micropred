{
 "cells": [
  {
   "cell_type": "code",
   "execution_count": 2,
   "id": "d4ebb021",
   "metadata": {},
   "outputs": [
    {
     "name": "stdout",
     "output_type": "stream",
     "text": [
      " exe C:\\Users\\jmull\\Anaconda3\\envs\\micropred\\python.exe <built-in method now of type object at 0x00007FF94FD2E7D0>\n"
     ]
    }
   ],
   "source": [
    "import os\n",
    "import sys\n",
    "import pandas as pd\n",
    "import datetime\n",
    "\n",
    "print(f\" exe {sys.executable} {datetime.datetime.now}\")"
   ]
  },
  {
   "cell_type": "code",
   "execution_count": 6,
   "id": "0559dd1c",
   "metadata": {},
   "outputs": [],
   "source": [
    "from microprediction import new_key, MicroWriter\n",
    "import pdb\n",
    "#And burn a key\n",
    "#pdb.set_trace()\n",
    "\n",
    "#key12 = new_key(difficulty=12)"
   ]
  },
  {
   "cell_type": "code",
   "execution_count": 20,
   "id": "4ffd9682",
   "metadata": {},
   "outputs": [
    {
     "ename": "ImportError",
     "evalue": "cannot import name 'muid' from 'microprediction' (C:\\Users\\jmull\\Anaconda3\\envs\\micropred\\lib\\site-packages\\microprediction\\__init__.py)",
     "output_type": "error",
     "traceback": [
      "\u001b[1;31m---------------------------------------------------------------------------\u001b[0m",
      "\u001b[1;31mImportError\u001b[0m                               Traceback (most recent call last)",
      "Input \u001b[1;32mIn [20]\u001b[0m, in \u001b[0;36m<cell line: 2>\u001b[1;34m()\u001b[0m\n\u001b[0;32m      1\u001b[0m \u001b[38;5;28;01mimport\u001b[39;00m \u001b[38;5;21;01mmicroprediction\u001b[39;00m \u001b[38;5;28;01mas\u001b[39;00m \u001b[38;5;21;01mmp\u001b[39;00m\n\u001b[1;32m----> 2\u001b[0m \u001b[38;5;28;01mfrom\u001b[39;00m \u001b[38;5;21;01mmicroprediction\u001b[39;00m \u001b[38;5;28;01mimport\u001b[39;00m muid\n\u001b[0;32m      3\u001b[0m mp\n",
      "\u001b[1;31mImportError\u001b[0m: cannot import name 'muid' from 'microprediction' (C:\\Users\\jmull\\Anaconda3\\envs\\micropred\\lib\\site-packages\\microprediction\\__init__.py)"
     ]
    }
   ],
   "source": [
    "import microprediction as mp\n",
    "from microprediction import muid\n",
    "mp"
   ]
  },
  {
   "cell_type": "code",
   "execution_count": 21,
   "id": "5285c575",
   "metadata": {},
   "outputs": [
    {
     "name": "stdout",
     "output_type": "stream",
     "text": [
      "    @staticmethod\n",
      "    def create_key(difficulty=6):\n",
      "        \"\"\" Create new write_key (string, not bytes) \"\"\"\n",
      "        return muid.create(difficulty=difficulty).decode()\n",
      "\n"
     ]
    },
    {
     "data": {
      "text/plain": [
       "'C:\\\\Users\\\\jmull\\\\Anaconda3\\\\envs\\\\micropred\\\\lib\\\\site-packages\\\\microconventions\\\\key_conventions.py'"
      ]
     },
     "execution_count": 21,
     "metadata": {},
     "output_type": "execute_result"
    }
   ],
   "source": [
    "import inspect\n",
    "#from microprediction import muid\n",
    "f = new_key\n",
    "#f = muid\n",
    "src = inspect.getsource(f)\n",
    "srcFile = inspect.getsourcefile(f)\n",
    "print(src)\n",
    "srcFile"
   ]
  },
  {
   "cell_type": "code",
   "execution_count": 3,
   "id": "e05941f5",
   "metadata": {
    "scrolled": true
   },
   "outputs": [
    {
     "ename": "ModuleNotFoundError",
     "evalue": "No module named 'microprediction'",
     "output_type": "error",
     "traceback": [
      "\u001b[1;31m---------------------------------------------------------------------------\u001b[0m",
      "\u001b[1;31mModuleNotFoundError\u001b[0m                       Traceback (most recent call last)",
      "Input \u001b[1;32mIn [3]\u001b[0m, in \u001b[0;36m<cell line: 1>\u001b[1;34m()\u001b[0m\n\u001b[1;32m----> 1\u001b[0m \u001b[38;5;28;01mfrom\u001b[39;00m \u001b[38;5;21;01mmicroprediction\u001b[39;00m \u001b[38;5;28;01mimport\u001b[39;00m MicroReader\n\u001b[0;32m      2\u001b[0m reader \u001b[38;5;241m=\u001b[39m MicroReader()\n\u001b[0;32m      3\u001b[0m reader\u001b[38;5;241m.\u001b[39mget_lagged_values(\u001b[38;5;124m'\u001b[39m\u001b[38;5;124mdie.json\u001b[39m\u001b[38;5;124m'\u001b[39m)\n",
      "\u001b[1;31mModuleNotFoundError\u001b[0m: No module named 'microprediction'"
     ]
    }
   ],
   "source": [
    "from microprediction import MicroReader\n",
    "reader = MicroReader()\n",
    "reader.get_lagaged_values('die.json')"
   ]
  },
  {
   "cell_type": "code",
   "execution_count": null,
   "id": "f933167d",
   "metadata": {},
   "outputs": [],
   "source": []
  }
 ],
 "metadata": {
  "kernelspec": {
   "display_name": "micropred",
   "language": "python",
   "name": "micropred"
  },
  "language_info": {
   "codemirror_mode": {
    "name": "ipython",
    "version": 3
   },
   "file_extension": ".py",
   "mimetype": "text/x-python",
   "name": "python",
   "nbconvert_exporter": "python",
   "pygments_lexer": "ipython3",
   "version": "3.8.13"
  }
 },
 "nbformat": 4,
 "nbformat_minor": 5
}
